{
 "cells": [
  {
   "cell_type": "markdown",
   "id": "101b0af5-d6c9-4a16-bb47-d6b9e5bcd0bd",
   "metadata": {},
   "source": [
    "# 00_asymtools"
   ]
  },
  {
   "cell_type": "code",
   "execution_count": 1,
   "id": "93780d7a-5fb7-4fba-abb2-c4c5f3c77bca",
   "metadata": {},
   "outputs": [],
   "source": [
    "import pandas as pd\n",
    "import numpy as np\n"
   ]
  },
  {
   "cell_type": "code",
   "execution_count": 2,
   "id": "a4f75a88-5401-4601-8934-1cc111da85e4",
   "metadata": {},
   "outputs": [],
   "source": [
    "fn = '/Users/cchu/Desktop/phd_work/droplet_DNA/data/xSDS_variants.txt'"
   ]
  },
  {
   "cell_type": "code",
   "execution_count": 11,
   "id": "2900c948-5f7c-4a1c-86ea-41a143ace0d2",
   "metadata": {},
   "outputs": [],
   "source": [
    "df = pd.read_csv(fn, sep='\\t')\n",
    "df = df.rename(columns={'Chr': 'chr', 'Pos': 'pos', 'Ref': 'ref_allele', 'Alt': 'Alt_allele'})"
   ]
  },
  {
   "cell_type": "code",
   "execution_count": 20,
   "id": "631248a3-610a-4dd8-a0b3-f700a9e88115",
   "metadata": {},
   "outputs": [
    {
     "data": {
      "text/html": [
       "<div>\n",
       "<style scoped>\n",
       "    .dataframe tbody tr th:only-of-type {\n",
       "        vertical-align: middle;\n",
       "    }\n",
       "\n",
       "    .dataframe tbody tr th {\n",
       "        vertical-align: top;\n",
       "    }\n",
       "\n",
       "    .dataframe thead th {\n",
       "        text-align: right;\n",
       "    }\n",
       "</style>\n",
       "<table border=\"1\" class=\"dataframe\">\n",
       "  <thead>\n",
       "    <tr style=\"text-align: right;\">\n",
       "      <th></th>\n",
       "      <th>chr</th>\n",
       "      <th>pos</th>\n",
       "      <th>ref_allele</th>\n",
       "      <th>Alt_allele</th>\n",
       "      <th>NV</th>\n",
       "      <th>NR</th>\n",
       "      <th>VAF</th>\n",
       "    </tr>\n",
       "  </thead>\n",
       "  <tbody>\n",
       "    <tr>\n",
       "      <th>0</th>\n",
       "      <td>chr1</td>\n",
       "      <td>16856</td>\n",
       "      <td>A</td>\n",
       "      <td>G</td>\n",
       "      <td>5</td>\n",
       "      <td>44</td>\n",
       "      <td>0.113636</td>\n",
       "    </tr>\n",
       "    <tr>\n",
       "      <th>1</th>\n",
       "      <td>chr1</td>\n",
       "      <td>108540</td>\n",
       "      <td>A</td>\n",
       "      <td>C</td>\n",
       "      <td>7</td>\n",
       "      <td>44</td>\n",
       "      <td>0.159091</td>\n",
       "    </tr>\n",
       "    <tr>\n",
       "      <th>2</th>\n",
       "      <td>chr1</td>\n",
       "      <td>127491</td>\n",
       "      <td>T</td>\n",
       "      <td>G</td>\n",
       "      <td>16</td>\n",
       "      <td>70</td>\n",
       "      <td>0.228571</td>\n",
       "    </tr>\n",
       "    <tr>\n",
       "      <th>3</th>\n",
       "      <td>chr1</td>\n",
       "      <td>268043</td>\n",
       "      <td>C</td>\n",
       "      <td>T</td>\n",
       "      <td>11</td>\n",
       "      <td>78</td>\n",
       "      <td>0.141026</td>\n",
       "    </tr>\n",
       "    <tr>\n",
       "      <th>4</th>\n",
       "      <td>chr1</td>\n",
       "      <td>275337</td>\n",
       "      <td>T</td>\n",
       "      <td>C</td>\n",
       "      <td>6</td>\n",
       "      <td>55</td>\n",
       "      <td>0.109091</td>\n",
       "    </tr>\n",
       "  </tbody>\n",
       "</table>\n",
       "</div>"
      ],
      "text/plain": [
       "    chr     pos ref_allele Alt_allele  NV  NR       VAF\n",
       "0  chr1   16856          A          G   5  44  0.113636\n",
       "1  chr1  108540          A          C   7  44  0.159091\n",
       "2  chr1  127491          T          G  16  70  0.228571\n",
       "3  chr1  268043          C          T  11  78  0.141026\n",
       "4  chr1  275337          T          C   6  55  0.109091"
      ]
     },
     "execution_count": 20,
     "metadata": {},
     "output_type": "execute_result"
    }
   ],
   "source": [
    "df.head()"
   ]
  },
  {
   "cell_type": "code",
   "execution_count": 19,
   "id": "f5b9f882-38e1-4a5c-8f0a-a71e682ea17e",
   "metadata": {},
   "outputs": [
    {
     "name": "stdout",
     "output_type": "stream",
     "text": [
      "/Users/cchu/Desktop/phd_work/droplet_DNA/data/xSDS_variants.reformat.txt\n"
     ]
    }
   ],
   "source": [
    "new_maf_fn = f\"{fn.rsplit('/', 1)[0]}/{fn.rsplit('/', 1)[1].split('.')[0]}.reformat.txt\"\n",
    "print(new_maf_fn)"
   ]
  },
  {
   "cell_type": "code",
   "execution_count": 21,
   "id": "4a08a48e-f306-44e0-8a4f-be0dbd084e1f",
   "metadata": {},
   "outputs": [],
   "source": [
    "df.to_csv(new_maf_fn, sep='\\t', index=None)"
   ]
  },
  {
   "cell_type": "code",
   "execution_count": 54,
   "id": "969534e4-cd5d-42d2-9d71-2be7754d4540",
   "metadata": {},
   "outputs": [
    {
     "data": {
      "text/html": [
       "<div>\n",
       "<style scoped>\n",
       "    .dataframe tbody tr th:only-of-type {\n",
       "        vertical-align: middle;\n",
       "    }\n",
       "\n",
       "    .dataframe tbody tr th {\n",
       "        vertical-align: top;\n",
       "    }\n",
       "\n",
       "    .dataframe thead th {\n",
       "        text-align: right;\n",
       "    }\n",
       "</style>\n",
       "<table border=\"1\" class=\"dataframe\">\n",
       "  <thead>\n",
       "    <tr style=\"text-align: right;\">\n",
       "      <th></th>\n",
       "      <th>chr</th>\n",
       "      <th>pos</th>\n",
       "      <th>pos</th>\n",
       "      <th>name</th>\n",
       "    </tr>\n",
       "  </thead>\n",
       "  <tbody>\n",
       "    <tr>\n",
       "      <th>0</th>\n",
       "      <td>chr1</td>\n",
       "      <td>16856</td>\n",
       "      <td>16857</td>\n",
       "      <td>0</td>\n",
       "    </tr>\n",
       "    <tr>\n",
       "      <th>1</th>\n",
       "      <td>chr1</td>\n",
       "      <td>108540</td>\n",
       "      <td>108541</td>\n",
       "      <td>1</td>\n",
       "    </tr>\n",
       "    <tr>\n",
       "      <th>2</th>\n",
       "      <td>chr1</td>\n",
       "      <td>127491</td>\n",
       "      <td>127492</td>\n",
       "      <td>2</td>\n",
       "    </tr>\n",
       "    <tr>\n",
       "      <th>3</th>\n",
       "      <td>chr1</td>\n",
       "      <td>268043</td>\n",
       "      <td>268044</td>\n",
       "      <td>3</td>\n",
       "    </tr>\n",
       "    <tr>\n",
       "      <th>4</th>\n",
       "      <td>chr1</td>\n",
       "      <td>275337</td>\n",
       "      <td>275338</td>\n",
       "      <td>4</td>\n",
       "    </tr>\n",
       "  </tbody>\n",
       "</table>\n",
       "</div>"
      ],
      "text/plain": [
       "    chr     pos     pos  name\n",
       "0  chr1   16856   16857     0\n",
       "1  chr1  108540  108541     1\n",
       "2  chr1  127491  127492     2\n",
       "3  chr1  268043  268044     3\n",
       "4  chr1  275337  275338     4"
      ]
     },
     "execution_count": 54,
     "metadata": {},
     "output_type": "execute_result"
    }
   ],
   "source": [
    "liftover_df = pd.concat([df[['chr', 'pos']], df['pos'] + 1, df.reset_index()['index'].rename('name')], axis=1)\n",
    "liftover_df.head()"
   ]
  },
  {
   "cell_type": "markdown",
   "id": "93a1907c-31f4-40cc-b30f-f2aab7813b2f",
   "metadata": {},
   "source": [
    "Added the index as the \"name\" column of bed file. This is for mapping back the lift over coordinates"
   ]
  },
  {
   "cell_type": "code",
   "execution_count": 48,
   "id": "a029e1f4-c962-4821-9813-95efac14a046",
   "metadata": {},
   "outputs": [
    {
     "data": {
      "text/plain": [
       "'/Users/cchu/Desktop/phd_work/droplet_DNA/data/xSDS_variants.bed.hg38.txt'"
      ]
     },
     "execution_count": 48,
     "metadata": {},
     "output_type": "execute_result"
    }
   ],
   "source": [
    "liftover_fn = f\"{fn.rsplit('/', 1)[0]}/{fn.rsplit('/', 1)[1].split('.')[0]}.bed.hg38.txt\"\n",
    "liftover_fn"
   ]
  },
  {
   "cell_type": "code",
   "execution_count": 49,
   "id": "7316186e-a68a-43c5-aeb2-cde021407db1",
   "metadata": {},
   "outputs": [],
   "source": [
    "liftover_df.to_csv(liftover_fn, sep='\\t', index=None, header=None)"
   ]
  },
  {
   "cell_type": "markdown",
   "id": "5f437765-345f-46cc-b17f-57526fadea63",
   "metadata": {},
   "source": [
    "Input to liftover tool: https://genome.ucsc.edu/cgi-bin/hgLiftOver"
   ]
  },
  {
   "cell_type": "code",
   "execution_count": 58,
   "id": "7d70f490-c848-4157-8cb1-8e9e30191fbf",
   "metadata": {},
   "outputs": [
    {
     "data": {
      "text/html": [
       "<div>\n",
       "<style scoped>\n",
       "    .dataframe tbody tr th:only-of-type {\n",
       "        vertical-align: middle;\n",
       "    }\n",
       "\n",
       "    .dataframe tbody tr th {\n",
       "        vertical-align: top;\n",
       "    }\n",
       "\n",
       "    .dataframe thead th {\n",
       "        text-align: right;\n",
       "    }\n",
       "</style>\n",
       "<table border=\"1\" class=\"dataframe\">\n",
       "  <thead>\n",
       "    <tr style=\"text-align: right;\">\n",
       "      <th></th>\n",
       "      <th>chr</th>\n",
       "      <th>pos</th>\n",
       "      <th>pos2</th>\n",
       "      <th>orig_idx</th>\n",
       "    </tr>\n",
       "  </thead>\n",
       "  <tbody>\n",
       "    <tr>\n",
       "      <th>0</th>\n",
       "      <td>chr1</td>\n",
       "      <td>16856</td>\n",
       "      <td>16857</td>\n",
       "      <td>0</td>\n",
       "    </tr>\n",
       "    <tr>\n",
       "      <th>1</th>\n",
       "      <td>chr1</td>\n",
       "      <td>108540</td>\n",
       "      <td>108541</td>\n",
       "      <td>1</td>\n",
       "    </tr>\n",
       "    <tr>\n",
       "      <th>2</th>\n",
       "      <td>chr1</td>\n",
       "      <td>127491</td>\n",
       "      <td>127492</td>\n",
       "      <td>2</td>\n",
       "    </tr>\n",
       "    <tr>\n",
       "      <th>3</th>\n",
       "      <td>chr1</td>\n",
       "      <td>237794</td>\n",
       "      <td>237795</td>\n",
       "      <td>3</td>\n",
       "    </tr>\n",
       "    <tr>\n",
       "      <th>4</th>\n",
       "      <td>chr1</td>\n",
       "      <td>245088</td>\n",
       "      <td>245089</td>\n",
       "      <td>4</td>\n",
       "    </tr>\n",
       "  </tbody>\n",
       "</table>\n",
       "</div>"
      ],
      "text/plain": [
       "    chr     pos    pos2  orig_idx\n",
       "0  chr1   16856   16857         0\n",
       "1  chr1  108540  108541         1\n",
       "2  chr1  127491  127492         2\n",
       "3  chr1  237794  237795         3\n",
       "4  chr1  245088  245089         4"
      ]
     },
     "execution_count": 58,
     "metadata": {},
     "output_type": "execute_result"
    }
   ],
   "source": [
    "hg19_liftover_fn = '/Users/cchu/Desktop/phd_work/droplet_DNA/data/hglft_genome_2ebae1_b526b0.bed'\n",
    "hg19_liftover_df = pd.read_csv(hg19_liftover_fn, sep='\\t', header=None)\n",
    "hg19_liftover_df.columns = ['chr', 'pos', 'pos2', 'orig_idx']\n",
    "hg19_liftover_df.head()"
   ]
  },
  {
   "cell_type": "code",
   "execution_count": 59,
   "id": "a6baa2ee-8806-4f0e-8402-1ee042431dc2",
   "metadata": {},
   "outputs": [
    {
     "name": "stdout",
     "output_type": "stream",
     "text": [
      "(68881, 7)\n"
     ]
    },
    {
     "data": {
      "text/html": [
       "<div>\n",
       "<style scoped>\n",
       "    .dataframe tbody tr th:only-of-type {\n",
       "        vertical-align: middle;\n",
       "    }\n",
       "\n",
       "    .dataframe tbody tr th {\n",
       "        vertical-align: top;\n",
       "    }\n",
       "\n",
       "    .dataframe thead th {\n",
       "        text-align: right;\n",
       "    }\n",
       "</style>\n",
       "<table border=\"1\" class=\"dataframe\">\n",
       "  <thead>\n",
       "    <tr style=\"text-align: right;\">\n",
       "      <th></th>\n",
       "      <th>chr</th>\n",
       "      <th>pos</th>\n",
       "      <th>ref_allele</th>\n",
       "      <th>Alt_allele</th>\n",
       "      <th>NV</th>\n",
       "      <th>NR</th>\n",
       "      <th>VAF</th>\n",
       "    </tr>\n",
       "  </thead>\n",
       "  <tbody>\n",
       "    <tr>\n",
       "      <th>0</th>\n",
       "      <td>chr1</td>\n",
       "      <td>16856</td>\n",
       "      <td>A</td>\n",
       "      <td>G</td>\n",
       "      <td>5</td>\n",
       "      <td>44</td>\n",
       "      <td>0.113636</td>\n",
       "    </tr>\n",
       "    <tr>\n",
       "      <th>1</th>\n",
       "      <td>chr1</td>\n",
       "      <td>108540</td>\n",
       "      <td>A</td>\n",
       "      <td>C</td>\n",
       "      <td>7</td>\n",
       "      <td>44</td>\n",
       "      <td>0.159091</td>\n",
       "    </tr>\n",
       "    <tr>\n",
       "      <th>2</th>\n",
       "      <td>chr1</td>\n",
       "      <td>127491</td>\n",
       "      <td>T</td>\n",
       "      <td>G</td>\n",
       "      <td>16</td>\n",
       "      <td>70</td>\n",
       "      <td>0.228571</td>\n",
       "    </tr>\n",
       "    <tr>\n",
       "      <th>3</th>\n",
       "      <td>chr1</td>\n",
       "      <td>268043</td>\n",
       "      <td>C</td>\n",
       "      <td>T</td>\n",
       "      <td>11</td>\n",
       "      <td>78</td>\n",
       "      <td>0.141026</td>\n",
       "    </tr>\n",
       "    <tr>\n",
       "      <th>4</th>\n",
       "      <td>chr1</td>\n",
       "      <td>275337</td>\n",
       "      <td>T</td>\n",
       "      <td>C</td>\n",
       "      <td>6</td>\n",
       "      <td>55</td>\n",
       "      <td>0.109091</td>\n",
       "    </tr>\n",
       "  </tbody>\n",
       "</table>\n",
       "</div>"
      ],
      "text/plain": [
       "    chr     pos ref_allele Alt_allele  NV  NR       VAF\n",
       "0  chr1   16856          A          G   5  44  0.113636\n",
       "1  chr1  108540          A          C   7  44  0.159091\n",
       "2  chr1  127491          T          G  16  70  0.228571\n",
       "3  chr1  268043          C          T  11  78  0.141026\n",
       "4  chr1  275337          T          C   6  55  0.109091"
      ]
     },
     "execution_count": 59,
     "metadata": {},
     "output_type": "execute_result"
    }
   ],
   "source": [
    "hg38_df = pd.read_csv(new_maf_fn, sep='\\t')\n",
    "print(hg38_df.shape)\n",
    "hg38_df.head()"
   ]
  },
  {
   "cell_type": "code",
   "execution_count": 121,
   "id": "4202e79c-ac55-48b2-8dff-a9685e64c110",
   "metadata": {},
   "outputs": [
    {
     "data": {
      "text/plain": [
       "0.9616004413408632"
      ]
     },
     "execution_count": 121,
     "metadata": {},
     "output_type": "execute_result"
    }
   ],
   "source": [
    "66236/68881"
   ]
  },
  {
   "cell_type": "code",
   "execution_count": 81,
   "id": "a792fcd0-43b5-4cff-89fe-8c8ba8068c81",
   "metadata": {},
   "outputs": [
    {
     "name": "stdout",
     "output_type": "stream",
     "text": [
      "(66236, 8)\n"
     ]
    },
    {
     "data": {
      "text/html": [
       "<div>\n",
       "<style scoped>\n",
       "    .dataframe tbody tr th:only-of-type {\n",
       "        vertical-align: middle;\n",
       "    }\n",
       "\n",
       "    .dataframe tbody tr th {\n",
       "        vertical-align: top;\n",
       "    }\n",
       "\n",
       "    .dataframe thead th {\n",
       "        text-align: right;\n",
       "    }\n",
       "</style>\n",
       "<table border=\"1\" class=\"dataframe\">\n",
       "  <thead>\n",
       "    <tr style=\"text-align: right;\">\n",
       "      <th></th>\n",
       "      <th>chr</th>\n",
       "      <th>pos</th>\n",
       "      <th>ref_allele</th>\n",
       "      <th>Alt_allele</th>\n",
       "      <th>NV</th>\n",
       "      <th>NR</th>\n",
       "      <th>VAF</th>\n",
       "      <th>patient</th>\n",
       "    </tr>\n",
       "  </thead>\n",
       "  <tbody>\n",
       "    <tr>\n",
       "      <th>0</th>\n",
       "      <td>chr1</td>\n",
       "      <td>16856</td>\n",
       "      <td>A</td>\n",
       "      <td>G</td>\n",
       "      <td>5</td>\n",
       "      <td>44</td>\n",
       "      <td>0.113636</td>\n",
       "      <td>xSDS</td>\n",
       "    </tr>\n",
       "    <tr>\n",
       "      <th>1</th>\n",
       "      <td>chr1</td>\n",
       "      <td>108540</td>\n",
       "      <td>A</td>\n",
       "      <td>C</td>\n",
       "      <td>7</td>\n",
       "      <td>44</td>\n",
       "      <td>0.159091</td>\n",
       "      <td>xSDS</td>\n",
       "    </tr>\n",
       "    <tr>\n",
       "      <th>2</th>\n",
       "      <td>chr1</td>\n",
       "      <td>127491</td>\n",
       "      <td>T</td>\n",
       "      <td>G</td>\n",
       "      <td>16</td>\n",
       "      <td>70</td>\n",
       "      <td>0.228571</td>\n",
       "      <td>xSDS</td>\n",
       "    </tr>\n",
       "    <tr>\n",
       "      <th>3</th>\n",
       "      <td>chr1</td>\n",
       "      <td>237794</td>\n",
       "      <td>C</td>\n",
       "      <td>T</td>\n",
       "      <td>11</td>\n",
       "      <td>78</td>\n",
       "      <td>0.141026</td>\n",
       "      <td>xSDS</td>\n",
       "    </tr>\n",
       "    <tr>\n",
       "      <th>4</th>\n",
       "      <td>chr1</td>\n",
       "      <td>245088</td>\n",
       "      <td>T</td>\n",
       "      <td>C</td>\n",
       "      <td>6</td>\n",
       "      <td>55</td>\n",
       "      <td>0.109091</td>\n",
       "      <td>xSDS</td>\n",
       "    </tr>\n",
       "  </tbody>\n",
       "</table>\n",
       "</div>"
      ],
      "text/plain": [
       "    chr     pos ref_allele Alt_allele  NV  NR       VAF patient\n",
       "0  chr1   16856          A          G   5  44  0.113636    xSDS\n",
       "1  chr1  108540          A          C   7  44  0.159091    xSDS\n",
       "2  chr1  127491          T          G  16  70  0.228571    xSDS\n",
       "3  chr1  237794          C          T  11  78  0.141026    xSDS\n",
       "4  chr1  245088          T          C   6  55  0.109091    xSDS"
      ]
     },
     "execution_count": 81,
     "metadata": {},
     "output_type": "execute_result"
    }
   ],
   "source": [
    "hg19_df = hg38_df.loc[hg19_liftover_df['orig_idx']]\n",
    "hg19_df['pos'] = hg19_liftover_df['pos'].tolist()\n",
    "hg19_df['patient'] = 'xSDS'\n",
    "print(hg19_df.shape)\n",
    "hg19_df.head()"
   ]
  },
  {
   "cell_type": "code",
   "execution_count": 82,
   "id": "e853c927-2d97-4f3c-a17c-95956fb6cd37",
   "metadata": {},
   "outputs": [
    {
     "data": {
      "text/plain": [
       "'/Users/cchu/Desktop/phd_work/droplet_DNA/data/xSDS_variants.reformat.hg19.txt'"
      ]
     },
     "execution_count": 82,
     "metadata": {},
     "output_type": "execute_result"
    }
   ],
   "source": [
    "hg19_fn = f\"{fn.rsplit('/', 1)[0]}/{fn.rsplit('/', 1)[1].split('.')[0]}.reformat.hg19.txt\"\n",
    "hg19_fn"
   ]
  },
  {
   "cell_type": "code",
   "execution_count": 83,
   "id": "2cee853e-78d3-4da1-875b-e92081421ef3",
   "metadata": {},
   "outputs": [],
   "source": [
    "hg19_df.to_csv(hg19_fn, sep='\\t', index=None)"
   ]
  },
  {
   "cell_type": "markdown",
   "id": "95381092-a924-422a-9957-bb8bfad5f7b9",
   "metadata": {},
   "source": [
    "# Asymtools\n"
   ]
  },
  {
   "cell_type": "code",
   "execution_count": 13,
   "id": "17cb1b34-fdb1-4fb6-a866-b6f44d1221c8",
   "metadata": {},
   "outputs": [],
   "source": [
    "from asymtools.annot import *\n",
    "from asymtools.plotting import *\n"
   ]
  },
  {
   "cell_type": "code",
   "execution_count": 84,
   "id": "f1019c5c-769a-47f4-9427-6a386ad2d70c",
   "metadata": {},
   "outputs": [
    {
     "name": "stdout",
     "output_type": "stream",
     "text": [
      "Assuming hg19...\n",
      "Assuming hg19...\n"
     ]
    }
   ],
   "source": [
    "m = preprocess_maf(hg19_fn)"
   ]
  },
  {
   "cell_type": "code",
   "execution_count": 119,
   "id": "5eb0fa2c-375d-4e9b-bb05-af351c00bfcf",
   "metadata": {},
   "outputs": [
    {
     "data": {
      "image/png": "[encoded data removed]",
      "text/plain": [
       "<Figure size 1000x400 with 6 Axes>"
      ]
     },
     "metadata": {},
     "output_type": "display_data"
    }
   ],
   "source": [
    "# Plot asymmetries of mutation counts\n",
    "twin_bar_txplot(m)\n",
    "plt.show()"
   ]
  },
  {
   "cell_type": "code",
   "execution_count": 120,
   "id": "0774ac9c-5f18-45ab-889e-9f7e3e0aa21b",
   "metadata": {},
   "outputs": [
    {
     "data": {
      "image/png": "[encoded data removed]",
      "text/plain": [
       "<Figure size 1000x400 with 6 Axes>"
      ]
     },
     "metadata": {},
     "output_type": "display_data"
    }
   ],
   "source": [
    "twin_bar_repplot(m)\n",
    "plt.show()"
   ]
  },
  {
   "cell_type": "code",
   "execution_count": 87,
   "id": "fa6e2f25-0d40-4b50-bb8b-d3030ac2a823",
   "metadata": {},
   "outputs": [
    {
     "name": "stdout",
     "output_type": "stream",
     "text": [
      "  name  x    n1    n2            color       N1       N2           r1  \\\n",
      "0  A>C  0   336   289    [0, 0.2, 0.8]  1197784  1196157   280.518023   \n",
      "1  A>G  1  1677  1637  [0.1, 0.8, 0.1]  1197784  1196157  1400.085491   \n",
      "2  A>T  2   294   285  [0.5, 0.3, 0.7]  1197784  1196157   245.453270   \n",
      "3  C>A  3   354   353    [0, 0.7, 0.7]  1241828  1223246   285.063632   \n",
      "4  C>G  4   319   272        [1, 0, 0]  1241828  1223246   256.879375   \n",
      "\n",
      "       r1_sd           r2      r2_sd     ratio  ratio_sd  logratio  \n",
      "0  15.303513   241.607080  14.212181  1.161051  0.093148  0.215431  \n",
      "1  34.189128  1368.549446  33.824871  1.023043  0.035545  0.032867  \n",
      "2  14.315125   238.263037  14.113484  1.030178  0.085636  0.042893  \n",
      "3  15.150961   288.576460  15.359375  0.987827  0.074302 -0.017670  \n",
      "4  14.382484   222.359198  13.482507  1.155245  0.095343  0.208199  \n"
     ]
    },
    {
     "data": {
      "image/png": "[encoded data removed]",
      "text/plain": [
       "<Figure size 1000x400 with 6 Axes>"
      ]
     },
     "metadata": {},
     "output_type": "display_data"
    }
   ],
   "source": [
    "ax,res = twin_bar_repplot(m,normalization='exome')\n",
    "print(res[1].head())\n",
    "plt.show()"
   ]
  },
  {
   "cell_type": "code",
   "execution_count": 71,
   "id": "67c08914-654b-4649-bc71-c50253161511",
   "metadata": {},
   "outputs": [],
   "source": [
    "import seaborn as sns"
   ]
  },
  {
   "cell_type": "code",
   "execution_count": 88,
   "id": "24130cfc-07ce-4df5-9f02-88efca36b25a",
   "metadata": {},
   "outputs": [
    {
     "data": {
      "text/plain": [
       "A>G    8448\n",
       "T>C    8276\n",
       "G>A    7834\n",
       "C>T    7741\n",
       "C>A    1889\n",
       "G>T    1815\n",
       "A>C    1617\n",
       "T>G    1532\n",
       "A>T    1527\n",
       "C>G    1476\n",
       "T>A    1464\n",
       "G>C    1406\n",
       "Name: mut, dtype: int64"
      ]
     },
     "execution_count": 88,
     "metadata": {},
     "output_type": "execute_result"
    }
   ],
   "source": [
    "snp_df = m[(m['ref_allele'].str.len() == 1) & (m['newbase'].str.len() == 1)]\n",
    "snp_df['mut'].value_counts()"
   ]
  },
  {
   "cell_type": "code",
   "execution_count": 93,
   "id": "38b75a6b-105c-4725-b87a-caad82f24584",
   "metadata": {},
   "outputs": [
    {
     "data": {
      "text/html": [
       "<div>\n",
       "<style scoped>\n",
       "    .dataframe tbody tr th:only-of-type {\n",
       "        vertical-align: middle;\n",
       "    }\n",
       "\n",
       "    .dataframe tbody tr th {\n",
       "        vertical-align: top;\n",
       "    }\n",
       "\n",
       "    .dataframe thead th {\n",
       "        text-align: right;\n",
       "    }\n",
       "</style>\n",
       "<table border=\"1\" class=\"dataframe\">\n",
       "  <thead>\n",
       "    <tr style=\"text-align: right;\">\n",
       "      <th></th>\n",
       "      <th>chr</th>\n",
       "      <th>pos</th>\n",
       "      <th>ref_allele</th>\n",
       "      <th>newbase</th>\n",
       "      <th>NV</th>\n",
       "      <th>NR</th>\n",
       "      <th>VAF</th>\n",
       "      <th>patient</th>\n",
       "      <th>targ_idx</th>\n",
       "      <th>txplus</th>\n",
       "      <th>txminus</th>\n",
       "      <th>is_left</th>\n",
       "      <th>is_right</th>\n",
       "      <th>mut</th>\n",
       "    </tr>\n",
       "  </thead>\n",
       "  <tbody>\n",
       "    <tr>\n",
       "      <th>0</th>\n",
       "      <td>1</td>\n",
       "      <td>16856</td>\n",
       "      <td>A</td>\n",
       "      <td>G</td>\n",
       "      <td>5</td>\n",
       "      <td>44</td>\n",
       "      <td>0.113636</td>\n",
       "      <td>xSDS</td>\n",
       "      <td>0</td>\n",
       "      <td>0</td>\n",
       "      <td>0</td>\n",
       "      <td>0</td>\n",
       "      <td>0</td>\n",
       "      <td>A&gt;G</td>\n",
       "    </tr>\n",
       "    <tr>\n",
       "      <th>1</th>\n",
       "      <td>1</td>\n",
       "      <td>108540</td>\n",
       "      <td>A</td>\n",
       "      <td>C</td>\n",
       "      <td>7</td>\n",
       "      <td>44</td>\n",
       "      <td>0.159091</td>\n",
       "      <td>xSDS</td>\n",
       "      <td>5</td>\n",
       "      <td>0</td>\n",
       "      <td>0</td>\n",
       "      <td>1</td>\n",
       "      <td>0</td>\n",
       "      <td>A&gt;C</td>\n",
       "    </tr>\n",
       "    <tr>\n",
       "      <th>2</th>\n",
       "      <td>1</td>\n",
       "      <td>127491</td>\n",
       "      <td>T</td>\n",
       "      <td>G</td>\n",
       "      <td>16</td>\n",
       "      <td>70</td>\n",
       "      <td>0.228571</td>\n",
       "      <td>xSDS</td>\n",
       "      <td>6</td>\n",
       "      <td>0</td>\n",
       "      <td>0</td>\n",
       "      <td>1</td>\n",
       "      <td>0</td>\n",
       "      <td>T&gt;G</td>\n",
       "    </tr>\n",
       "    <tr>\n",
       "      <th>3</th>\n",
       "      <td>1</td>\n",
       "      <td>167215</td>\n",
       "      <td>G</td>\n",
       "      <td>GTT</td>\n",
       "      <td>9</td>\n",
       "      <td>59</td>\n",
       "      <td>0.152542</td>\n",
       "      <td>xSDS</td>\n",
       "      <td>8</td>\n",
       "      <td>0</td>\n",
       "      <td>0</td>\n",
       "      <td>1</td>\n",
       "      <td>0</td>\n",
       "      <td>G&gt;GTT</td>\n",
       "    </tr>\n",
       "    <tr>\n",
       "      <th>4</th>\n",
       "      <td>1</td>\n",
       "      <td>216815</td>\n",
       "      <td>A</td>\n",
       "      <td>G</td>\n",
       "      <td>7</td>\n",
       "      <td>65</td>\n",
       "      <td>0.107692</td>\n",
       "      <td>xSDS</td>\n",
       "      <td>10</td>\n",
       "      <td>0</td>\n",
       "      <td>0</td>\n",
       "      <td>1</td>\n",
       "      <td>0</td>\n",
       "      <td>A&gt;G</td>\n",
       "    </tr>\n",
       "    <tr>\n",
       "      <th>...</th>\n",
       "      <td>...</td>\n",
       "      <td>...</td>\n",
       "      <td>...</td>\n",
       "      <td>...</td>\n",
       "      <td>...</td>\n",
       "      <td>...</td>\n",
       "      <td>...</td>\n",
       "      <td>...</td>\n",
       "      <td>...</td>\n",
       "      <td>...</td>\n",
       "      <td>...</td>\n",
       "      <td>...</td>\n",
       "      <td>...</td>\n",
       "      <td>...</td>\n",
       "    </tr>\n",
       "    <tr>\n",
       "      <th>66231</th>\n",
       "      <td>24</td>\n",
       "      <td>59027750</td>\n",
       "      <td>G</td>\n",
       "      <td>A</td>\n",
       "      <td>8</td>\n",
       "      <td>93</td>\n",
       "      <td>0.086022</td>\n",
       "      <td>xSDS</td>\n",
       "      <td>154776</td>\n",
       "      <td>0</td>\n",
       "      <td>0</td>\n",
       "      <td>0</td>\n",
       "      <td>0</td>\n",
       "      <td>G&gt;A</td>\n",
       "    </tr>\n",
       "    <tr>\n",
       "      <th>66232</th>\n",
       "      <td>24</td>\n",
       "      <td>59027762</td>\n",
       "      <td>T</td>\n",
       "      <td>C</td>\n",
       "      <td>8</td>\n",
       "      <td>90</td>\n",
       "      <td>0.088889</td>\n",
       "      <td>xSDS</td>\n",
       "      <td>154776</td>\n",
       "      <td>0</td>\n",
       "      <td>0</td>\n",
       "      <td>0</td>\n",
       "      <td>0</td>\n",
       "      <td>T&gt;C</td>\n",
       "    </tr>\n",
       "    <tr>\n",
       "      <th>66233</th>\n",
       "      <td>24</td>\n",
       "      <td>59028036</td>\n",
       "      <td>G</td>\n",
       "      <td>C</td>\n",
       "      <td>10</td>\n",
       "      <td>95</td>\n",
       "      <td>0.105263</td>\n",
       "      <td>xSDS</td>\n",
       "      <td>154776</td>\n",
       "      <td>0</td>\n",
       "      <td>0</td>\n",
       "      <td>0</td>\n",
       "      <td>0</td>\n",
       "      <td>G&gt;C</td>\n",
       "    </tr>\n",
       "    <tr>\n",
       "      <th>66234</th>\n",
       "      <td>24</td>\n",
       "      <td>59032089</td>\n",
       "      <td>A</td>\n",
       "      <td>G</td>\n",
       "      <td>5</td>\n",
       "      <td>72</td>\n",
       "      <td>0.069444</td>\n",
       "      <td>xSDS</td>\n",
       "      <td>154776</td>\n",
       "      <td>0</td>\n",
       "      <td>0</td>\n",
       "      <td>0</td>\n",
       "      <td>0</td>\n",
       "      <td>A&gt;G</td>\n",
       "    </tr>\n",
       "    <tr>\n",
       "      <th>66235</th>\n",
       "      <td>24</td>\n",
       "      <td>142536712</td>\n",
       "      <td>T</td>\n",
       "      <td>C</td>\n",
       "      <td>9</td>\n",
       "      <td>68</td>\n",
       "      <td>0.132353</td>\n",
       "      <td>xSDS</td>\n",
       "      <td>-1</td>\n",
       "      <td>False</td>\n",
       "      <td>False</td>\n",
       "      <td>False</td>\n",
       "      <td>False</td>\n",
       "      <td>T&gt;C</td>\n",
       "    </tr>\n",
       "  </tbody>\n",
       "</table>\n",
       "<p>66236 rows × 14 columns</p>\n",
       "</div>"
      ],
      "text/plain": [
       "       chr        pos ref_allele newbase  NV  NR       VAF patient  targ_idx  \\\n",
       "0        1      16856          A       G   5  44  0.113636    xSDS         0   \n",
       "1        1     108540          A       C   7  44  0.159091    xSDS         5   \n",
       "2        1     127491          T       G  16  70  0.228571    xSDS         6   \n",
       "3        1     167215          G     GTT   9  59  0.152542    xSDS         8   \n",
       "4        1     216815          A       G   7  65  0.107692    xSDS        10   \n",
       "...    ...        ...        ...     ...  ..  ..       ...     ...       ...   \n",
       "66231   24   59027750          G       A   8  93  0.086022    xSDS    154776   \n",
       "66232   24   59027762          T       C   8  90  0.088889    xSDS    154776   \n",
       "66233   24   59028036          G       C  10  95  0.105263    xSDS    154776   \n",
       "66234   24   59032089          A       G   5  72  0.069444    xSDS    154776   \n",
       "66235   24  142536712          T       C   9  68  0.132353    xSDS        -1   \n",
       "\n",
       "      txplus txminus is_left is_right    mut  \n",
       "0          0       0       0        0    A>G  \n",
       "1          0       0       1        0    A>C  \n",
       "2          0       0       1        0    T>G  \n",
       "3          0       0       1        0  G>GTT  \n",
       "4          0       0       1        0    A>G  \n",
       "...      ...     ...     ...      ...    ...  \n",
       "66231      0       0       0        0    G>A  \n",
       "66232      0       0       0        0    T>C  \n",
       "66233      0       0       0        0    G>C  \n",
       "66234      0       0       0        0    A>G  \n",
       "66235  False   False   False    False    T>C  \n",
       "\n",
       "[66236 rows x 14 columns]"
      ]
     },
     "execution_count": 93,
     "metadata": {},
     "output_type": "execute_result"
    }
   ],
   "source": [
    "m"
   ]
  },
  {
   "cell_type": "code",
   "execution_count": 92,
   "id": "4310af0b-14a7-49b2-80e5-bbd1b11682e6",
   "metadata": {},
   "outputs": [
    {
     "data": {
      "text/plain": [
       "<Axes: xlabel='mut', ylabel='VAF'>"
      ]
     },
     "execution_count": 92,
     "metadata": {},
     "output_type": "execute_result"
    },
    {
     "data": {
      "image/png": "[encoded data removed]",
      "text/plain": [
       "<Figure size 640x480 with 1 Axes>"
      ]
     },
     "metadata": {},
     "output_type": "display_data"
    }
   ],
   "source": [
    "sns.boxplot(snp_df, x='mut', y='VAF')"
   ]
  },
  {
   "cell_type": "code",
   "execution_count": 94,
   "id": "70200c2f-c293-4951-b837-1fab3b4309b5",
   "metadata": {},
   "outputs": [],
   "source": [
    "missing_df = hg38_df.loc[~hg38_df.index.isin(hg19_liftover_df['orig_idx'])]"
   ]
  },
  {
   "cell_type": "code",
   "execution_count": 96,
   "id": "c033d060-e7bf-474a-a110-0973cee604c0",
   "metadata": {},
   "outputs": [
    {
     "data": {
      "text/plain": [
       "(2645, 7)"
      ]
     },
     "execution_count": 96,
     "metadata": {},
     "output_type": "execute_result"
    }
   ],
   "source": [
    "missing_df.shape"
   ]
  },
  {
   "cell_type": "code",
   "execution_count": 122,
   "id": "c158fe42-db74-4ff6-8616-fc58c47b337c",
   "metadata": {},
   "outputs": [
    {
     "data": {
      "image/png": "[encoded data removed]",
      "text/plain": [
       "<Figure size 400x800 with 2 Axes>"
      ]
     },
     "metadata": {},
     "output_type": "display_data"
    }
   ],
   "source": [
    "fig, axes = plt.subplots(2, figsize=(4, 8), sharex=True)\n",
    "m['VAF'].hist(color='gray', alpha=0.5, ax=axes[0])\n",
    "axes[0].axvline(m['VAF'].mean(), c='r', linestyle='--', label='mean')\n",
    "axes[0].axvline(m['VAF'].median(), c='k', linestyle='-', label='median')\n",
    "\n",
    "missing_df['VAF'].hist(color='gray', alpha=0.5, ax=axes[1])\n",
    "axes[1].axvline(missing_df['VAF'].mean(), c='r', linestyle='--', label='mean')\n",
    "axes[1].axvline(missing_df['VAF'].median(), c='k', linestyle='-', label='median')\n",
    "\n",
    "axes[0].set_xlabel('VAF')\n",
    "axes[1].set_xlabel('VAF')\n",
    "axes[0].set_ylabel('# SNPs')\n",
    "axes[1].set_ylabel('# SNPs')\n",
    "\n",
    "axes[0].set_title(f'Lifted over (n={m.shape[0]})')\n",
    "axes[1].set_title(f'Failed Liftover (n={missing_df.shape[0]})')\n",
    "axes[0].legend()\n",
    "axes[1].legend()\n",
    "plt.tight_layout()\n",
    "plt.show()"
   ]
  },
  {
   "cell_type": "code",
   "execution_count": null,
   "id": "1ef8882b-9038-437e-ac46-f84e622b9d5c",
   "metadata": {},
   "outputs": [],
   "source": []
  }
 ],
 "metadata": {
  "kernelspec": {
   "display_name": "droplet_DNA_env",
   "language": "python",
   "name": "droplet_dna_env"
  },
  "language_info": {
   "codemirror_mode": {
    "name": "ipython",
    "version": 3
   },
   "file_extension": ".py",
   "mimetype": "text/x-python",
   "name": "python",
   "nbconvert_exporter": "python",
   "pygments_lexer": "ipython3",
   "version": "3.9.0"
  }
 },
 "nbformat": 4,
 "nbformat_minor": 5
}
