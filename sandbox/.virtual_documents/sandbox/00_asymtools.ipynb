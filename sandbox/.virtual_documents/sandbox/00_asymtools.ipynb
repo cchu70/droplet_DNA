


import pandas as pd
import numpy as np



fn = '/Users/cchu/Desktop/phd_work/droplet_DNA/data/xSDS_variants.txt'


df = pd.read_csv(fn, sep='\t')


from asymtools.annot import *
from asymtools.plotting import *



# Load and annotate maf file
# An example lung cancer maf can be downloaded from https://gdc.cancer.gov/about-data/publications/luad_2014
m = preprocess_maf('test/AN_TCGA_LUAD_PAIR_capture_freeze_FINAL_230.aggregated.capture.tcga.uuid.curated.somatic.maf')

# Plot asymmetries of mutation counts
twin_bar_txplot(m)
twin_bar_repplot(m)

# Plot with correction of genomic content in mutations/Mb
# Choose 'exome' or 'genome' as appropriate
twin_bar_txplot(m,normalization='exome')
twin_bar_repplot(m,normalization='exome')

# In addition to the matplotlib axes, the plotting functions can also return a dataframe with the plotted values
# The columns summarize for each mutation type the total counts (n1,n2), normalized rates if using (r1,r2), and ratio of complementary mutations (ratio)
ax,res = twin_bar_repplot(m,normalization='exome')
print(res[1].head())


plt.show()
