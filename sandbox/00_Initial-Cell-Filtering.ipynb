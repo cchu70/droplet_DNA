{
 "cells": [
  {
   "cell_type": "markdown",
   "id": "1dc0484c",
   "metadata": {},
   "source": [
    "# 00_Initial-Cell-Filtering"
   ]
  },
  {
   "cell_type": "code",
   "execution_count": 1,
   "id": "214362ae",
   "metadata": {},
   "outputs": [],
   "source": [
    "import pandas as pd\n",
    "import numpy as np\n",
    "import scanpy as sc"
   ]
  },
  {
   "cell_type": "code",
   "execution_count": null,
   "id": "25d02776",
   "metadata": {},
   "outputs": [],
   "source": [
    "colon_dna_fn = '/broad/thechenlab/pipeline_slidetag/data/240609_SL-EXC_0308_A22KHFYLT3/count'\n",
    "colon_rna_fn = '/broad/thechenlab/Benno/experiments/xBO153/cellranger'"
   ]
  }
 ],
 "metadata": {
  "kernelspec": {
   "display_name": "droplet_DNA",
   "language": "python",
   "name": "droplet_dna"
  },
  "language_info": {
   "codemirror_mode": {
    "name": "ipython",
    "version": 3
   },
   "file_extension": ".py",
   "mimetype": "text/x-python",
   "name": "python",
   "nbconvert_exporter": "python",
   "pygments_lexer": "ipython3",
   "version": "3.9.0"
  }
 },
 "nbformat": 4,
 "nbformat_minor": 5
}
