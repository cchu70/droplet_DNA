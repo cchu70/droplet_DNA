{
 "cells": [
  {
   "cell_type": "markdown",
   "id": "2a7771a4",
   "metadata": {},
   "source": [
    "# 00_Mutect2\n",
    "\n",
    "Run on bams\n",
    "- GATK script"
   ]
  },
  {
   "cell_type": "code",
   "execution_count": 1,
   "id": "99de687c",
   "metadata": {},
   "outputs": [],
   "source": [
    "import pandas as pd\n",
    "import numpy as np"
   ]
  },
  {
   "cell_type": "code",
   "execution_count": null,
   "id": "a093c57c",
   "metadata": {},
   "outputs": [],
   "source": []
  }
 ],
 "metadata": {
  "kernelspec": {
   "display_name": "droplet_DNA",
   "language": "python",
   "name": "droplet_dna"
  },
  "language_info": {
   "codemirror_mode": {
    "name": "ipython",
    "version": 3
   },
   "file_extension": ".py",
   "mimetype": "text/x-python",
   "name": "python",
   "nbconvert_exporter": "python",
   "pygments_lexer": "ipython3",
   "version": "3.9.0"
  }
 },
 "nbformat": 4,
 "nbformat_minor": 5
}
